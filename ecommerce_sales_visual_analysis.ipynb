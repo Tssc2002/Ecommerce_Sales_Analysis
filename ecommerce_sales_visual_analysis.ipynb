{
 "cells": [
  {
   "cell_type": "markdown",
   "id": "d6659489",
   "metadata": {},
   "source": [
    "# 📊 E-Commerce Internet Sales Deep Analysis with Visualizations\n",
    "\n",
    "This notebook explores Internet Sales data and generates **trends and insights** through advanced data visualizations:\n",
    "- Customer Insights (Pareto, Gender, City)\n",
    "- Product Insights (Treemap, Top 10 Product Trends)\n",
    "- Time-Series (Rolling Average, Sales vs Budget)\n",
    "- RFM Segmentation\n",
    "- Correlation Heatmaps\n"
   ]
  },
  {
   "cell_type": "code",
   "execution_count": null,
   "id": "dfcb812c",
   "metadata": {},
   "outputs": [],
   "source": [
    "import pandas as pd\n",
    "import matplotlib.pyplot as plt\n",
    "import seaborn as sns\n",
    "import squarify\n",
    "import datetime as dt\n",
    "\n",
    "# Load datasets\n",
    "calendar = pd.read_csv('../data/DIM_Calendar.csv')\n",
    "customer = pd.read_csv('../data/DIM_Customer.csv')\n",
    "product = pd.read_csv('../data/DIM_Product.csv')\n",
    "sales = pd.read_csv('../data/FACT_InternetSales.csv')\n",
    "budget = pd.read_excel('../data/Sent Over Data - SalesBudget.xlsx')\n",
    "\n",
    "# Merge\n",
    "df = sales.merge(customer, on='CustomerKey').merge(product, on='ProductKey').merge(calendar, left_on='OrderDateKey', right_on='DateKey')\n",
    "df['OrderDate'] = pd.to_datetime(df['Date'])\n",
    "df.head()"
   ]
  },
  {
   "cell_type": "markdown",
   "id": "c0caa83d",
   "metadata": {},
   "source": [
    "## 👤 Customer Insights"
   ]
  },
  {
   "cell_type": "code",
   "execution_count": null,
   "id": "cb883fa9",
   "metadata": {},
   "outputs": [],
   "source": [
    "# Pareto Analysis (80/20 rule)\n",
    "customer_sales = df.groupby('FullName')['SalesAmount'].sum().sort_values(ascending=False).reset_index()\n",
    "customer_sales['Cumulative %'] = customer_sales['SalesAmount'].cumsum() / customer_sales['SalesAmount'].sum() * 100\n",
    "\n",
    "fig, ax1 = plt.subplots(figsize=(10,6))\n",
    "sns.barplot(x=customer_sales.index, y='SalesAmount', data=customer_sales, ax=ax1, color='skyblue')\n",
    "ax2 = ax1.twinx()\n",
    "sns.lineplot(x=customer_sales.index, y='Cumulative %', data=customer_sales, ax=ax2, color='red', marker='o')\n",
    "ax1.set_title('Pareto Analysis of Customers')\n",
    "ax1.set_ylabel('Sales Amount')\n",
    "ax2.set_ylabel('Cumulative %')\n",
    "plt.show()\n",
    "\n",
    "# Sales by Gender\n",
    "sns.barplot(x='Gender', y='SalesAmount', data=df, estimator=sum, ci=None)\n",
    "plt.title('Sales by Gender')\n",
    "plt.show()\n",
    "\n",
    "# Top 10 Cities by Sales\n",
    "sales_by_city = df.groupby('Customer City')['SalesAmount'].sum().sort_values(ascending=False).head(10)\n",
    "sales_by_city.plot(kind='barh', figsize=(10,5), title='Top 10 Cities by Sales')\n",
    "plt.show()"
   ]
  },
  {
   "cell_type": "markdown",
   "id": "f8b70ea7",
   "metadata": {},
   "source": [
    "## 📦 Product Insights"
   ]
  },
  {
   "cell_type": "code",
   "execution_count": null,
   "id": "8960dc39",
   "metadata": {},
   "outputs": [],
   "source": [
    "# Treemap: Sales by Product Category\n",
    "sales_by_category = df.groupby('Product Category')['SalesAmount'].sum().reset_index()\n",
    "plt.figure(figsize=(10,6))\n",
    "squarify.plot(sizes=sales_by_category['SalesAmount'], label=sales_by_category['Product Category'], alpha=.8)\n",
    "plt.title('Sales Distribution by Product Category')\n",
    "plt.axis('off')\n",
    "plt.show()\n",
    "\n",
    "# Top 10 Products Trend Over Time\n",
    "top_products = df.groupby('Product Name')['SalesAmount'].sum().nlargest(10).index\n",
    "trend_top_products = df[df['Product Name'].isin(top_products)].groupby(['Year','MonthNo','Product Name'])['SalesAmount'].sum().reset_index()\n",
    "\n",
    "plt.figure(figsize=(12,6))\n",
    "sns.lineplot(x='MonthNo', y='SalesAmount', hue='Product Name', data=trend_top_products, marker='o')\n",
    "plt.title('Monthly Sales Trend of Top 10 Products')\n",
    "plt.show()"
   ]
  },
  {
   "cell_type": "markdown",
   "id": "9e4e2534",
   "metadata": {},
   "source": [
    "## 📈 Time-Series Trends"
   ]
  },
  {
   "cell_type": "code",
   "execution_count": null,
   "id": "87840263",
   "metadata": {},
   "outputs": [],
   "source": [
    "# Monthly Sales vs Budget (Area Chart)\n",
    "monthly_sales = df.groupby(['Year','MonthNo'])['SalesAmount'].sum().reset_index()\n",
    "budget['Year'] = pd.to_datetime(budget['Date']).dt.year\n",
    "budget['MonthNo'] = pd.to_datetime(budget['Date']).dt.month\n",
    "merged = monthly_sales.merge(budget, on=['Year','MonthNo'], how='left')\n",
    "\n",
    "plt.figure(figsize=(12,6))\n",
    "plt.fill_between(merged['MonthNo'], merged['SalesAmount'], alpha=0.5, label='Actual Sales')\n",
    "plt.plot(merged['MonthNo'], merged['Budget'], color='red', linestyle='--', label='Budget')\n",
    "plt.legend()\n",
    "plt.title('Monthly Sales vs Budget (Area Chart)')\n",
    "plt.show()\n",
    "\n",
    "# Rolling Average Trend\n",
    "merged['RollingAvg'] = merged['SalesAmount'].rolling(3).mean()\n",
    "plt.figure(figsize=(12,6))\n",
    "sns.lineplot(x='MonthNo', y='SalesAmount', data=merged, marker='o', label='Actual Sales')\n",
    "sns.lineplot(x='MonthNo', y='RollingAvg', data=merged, marker='o', label='3-Month Rolling Avg', color='orange')\n",
    "plt.title('Sales Trend with Rolling Average')\n",
    "plt.show()"
   ]
  },
  {
   "cell_type": "markdown",
   "id": "6fe9108f",
   "metadata": {},
   "source": [
    "## 🎯 RFM Segmentation"
   ]
  },
  {
   "cell_type": "code",
   "execution_count": null,
   "id": "de1de9fb",
   "metadata": {},
   "outputs": [],
   "source": [
    "snapshot_date = df['OrderDate'].max() + pd.Timedelta(days=1)\n",
    "\n",
    "rfm = df.groupby('CustomerKey').agg({\n",
    "    'OrderDate': lambda x: (snapshot_date - x.max()).days,\n",
    "    'SalesOrderNumber': 'nunique',\n",
    "    'SalesAmount': 'sum'\n",
    "}).reset_index()\n",
    "\n",
    "rfm.rename(columns={'OrderDate':'Recency','SalesOrderNumber':'Frequency','SalesAmount':'Monetary'}, inplace=True)\n",
    "rfm.head()\n",
    "\n",
    "# Scatter plot for RFM\n",
    "plt.figure(figsize=(8,6))\n",
    "sns.scatterplot(data=rfm, x='Frequency', y='Monetary', size='Monetary', hue='Recency', palette='viridis', alpha=0.7, sizes=(50,500))\n",
    "plt.title('RFM Segmentation: Frequency vs Monetary (Color=Recency)')\n",
    "plt.xlabel('Frequency (#Orders)')\n",
    "plt.ylabel('Monetary (Total Spend)')\n",
    "plt.show()"
   ]
  },
  {
   "cell_type": "markdown",
   "id": "634f1577",
   "metadata": {},
   "source": [
    "## 🔗 Correlation Analysis"
   ]
  },
  {
   "cell_type": "code",
   "execution_count": null,
   "id": "c9472742",
   "metadata": {},
   "outputs": [],
   "source": [
    "plt.figure(figsize=(6,4))\n",
    "sns.heatmap(df[['SalesAmount','MonthNo','Year']].corr(), annot=True, cmap='coolwarm')\n",
    "plt.title('Correlation Heatmap')\n",
    "plt.show()"
   ]
  }
 ],
 "metadata": {},
 "nbformat": 4,
 "nbformat_minor": 5
}
